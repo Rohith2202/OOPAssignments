{
  "nbformat": 4,
  "nbformat_minor": 0,
  "metadata": {
    "colab": {
      "name": "OOPAssignment-2",
      "provenance": [],
      "authorship_tag": "ABX9TyNxh4w/KN7gW8k/QsLUL5Vu",
      "include_colab_link": true
    },
    "kernelspec": {
      "name": "python3",
      "display_name": "Python 3"
    },
    "language_info": {
      "name": "python"
    }
  },
  "cells": [
    {
      "cell_type": "markdown",
      "metadata": {
        "id": "view-in-github",
        "colab_type": "text"
      },
      "source": [
        "<a href=\"https://colab.research.google.com/github/Rohith2202/OOPAssignments/blob/main/OOPAssignment_2.ipynb\" target=\"_parent\"><img src=\"https://colab.research.google.com/assets/colab-badge.svg\" alt=\"Open In Colab\"/></a>"
      ]
    },
    {
      "cell_type": "code",
      "metadata": {
        "colab": {
          "base_uri": "https://localhost:8080/"
        },
        "id": "LmnR8f9OpGin",
        "outputId": "44ce2cbb-dbd1-4ff0-aa18-710c41551f9c"
      },
      "source": [
        "#Program-1\n",
        "\n",
        "x=5\n",
        "y=\"mystring\"\n",
        "print(x)\n",
        "print(y)\n",
        "words=y+\"\"+y\n",
        "print(words)\n",
        "sum=x+3\n",
        "print(sum)\n"
      ],
      "execution_count": 1,
      "outputs": [
        {
          "output_type": "stream",
          "name": "stdout",
          "text": [
            "5\n",
            "mystring\n",
            "mystringmystring\n",
            "8\n"
          ]
        }
      ]
    },
    {
      "cell_type": "code",
      "metadata": {
        "colab": {
          "base_uri": "https://localhost:8080/"
        },
        "id": "AZmOQsu8pOSp",
        "outputId": "0aa0472d-9b1d-4c73-dc5a-97c1545504f1"
      },
      "source": [
        "#Program-2\n",
        "X=\"IIIT Dharwad\"\n",
        "print(X)\n",
        "print(X[0])\n",
        "print(X[2])\n",
        "y=X[0:3]\n",
        "print(y)\n"
      ],
      "execution_count": 2,
      "outputs": [
        {
          "output_type": "stream",
          "name": "stdout",
          "text": [
            "IIIT Dharwad\n",
            "I\n",
            "I\n",
            "III\n"
          ]
        }
      ]
    },
    {
      "cell_type": "code",
      "metadata": {
        "colab": {
          "base_uri": "https://localhost:8080/"
        },
        "id": "5zDbxdPFpOb3",
        "outputId": "811da055-8360-41c1-9c5b-b1261877acd8"
      },
      "source": [
        "#Program-3\n",
        "\n",
        "Y=\"IIIT Dharwad \"\n",
        "Y=Y.replace(\"IIIT\",\"CS\")\n",
        "if \"wad\" in Y:\n",
        "    print(\"Found\")"
      ],
      "execution_count": 3,
      "outputs": [
        {
          "output_type": "stream",
          "name": "stdout",
          "text": [
            "Found\n"
          ]
        }
      ]
    },
    {
      "cell_type": "code",
      "metadata": {
        "colab": {
          "base_uri": "https://localhost:8080/"
        },
        "id": "CoixWqY8pOn6",
        "outputId": "956868e0-f4f8-4eea-ef4d-3f05f67ef2ad"
      },
      "source": [
        "#Program-4\n",
        "\n",
        "x=\"IIIT\"\n",
        "y=\"Dharwad\"\n",
        "z=[\"Institute\",\"Of\",\"National\",\"Importance\"]\n",
        "i=''.join(z)\n",
        "print(i)"
      ],
      "execution_count": 4,
      "outputs": [
        {
          "output_type": "stream",
          "name": "stdout",
          "text": [
            "InstituteOfNationalImportance\n"
          ]
        }
      ]
    },
    {
      "cell_type": "code",
      "metadata": {
        "colab": {
          "base_uri": "https://localhost:8080/"
        },
        "id": "cQeBkxWapOu_",
        "outputId": "140c52c0-3055-4302-9183-154237953458"
      },
      "source": [
        "#Program-5\n",
        "x=\"IIIT dharwad institute of national importance\"\n",
        "z=x.split()\n",
        "print(z,len(z))\n",
        "y=list(z[0])\n",
        "print(y)"
      ],
      "execution_count": 5,
      "outputs": [
        {
          "output_type": "stream",
          "name": "stdout",
          "text": [
            "['IIIT', 'dharwad', 'institute', 'of', 'national', 'importance'] 6\n",
            "['I', 'I', 'I', 'T']\n"
          ]
        }
      ]
    },
    {
      "cell_type": "code",
      "metadata": {
        "colab": {
          "base_uri": "https://localhost:8080/"
        },
        "id": "zpiPzniLpO2X",
        "outputId": "1484dc0f-2f2d-4c73-e36f-66fd9523d850"
      },
      "source": [
        "#Program-6\n",
        "import random\n",
        "print(random.random())\n",
        "print(random.randrange(0,10))\n",
        "print(random.uniform(0,20))"
      ],
      "execution_count": 8,
      "outputs": [
        {
          "output_type": "stream",
          "name": "stdout",
          "text": [
            "0.6973042876299285\n",
            "1\n",
            "3.5765823697738597\n"
          ]
        }
      ]
    },
    {
      "cell_type": "code",
      "metadata": {
        "colab": {
          "base_uri": "https://localhost:8080/"
        },
        "id": "RyPbdtdopO9Q",
        "outputId": "5d1be603-8150-4ff8-e427-35213073f58a"
      },
      "source": [
        "#Program-7\n",
        "x = input('Enter name: ')\n",
        "print('Welcome to IIIT Dharwad ' + x)\n",
        "phno=int(input(\"Enter phno:\"))\n",
        "print(phno)"
      ],
      "execution_count": 7,
      "outputs": [
        {
          "output_type": "stream",
          "name": "stdout",
          "text": [
            "Enter name: Ram\n",
            "Welcome to IIIT Dharwad Ram\n",
            "Enter phno:789654126\n",
            "789654126\n"
          ]
        }
      ]
    },
    {
      "cell_type": "code",
      "metadata": {
        "colab": {
          "base_uri": "https://localhost:8080/"
        },
        "id": "ZioXmaAcpPDo",
        "outputId": "57fd7b0f-7f4d-4062-9945-5511202a65e3"
      },
      "source": [
        "#Program-8\n",
        "age=int(input(\"Enter age:\"))\n",
        "if age==3:\n",
        "    print(\"Age 3\")\n",
        "elif age==4:\n",
        "    print(\"age 4\")\n",
        "else:\n",
        "    print(\"age is\",age)"
      ],
      "execution_count": 11,
      "outputs": [
        {
          "output_type": "stream",
          "name": "stdout",
          "text": [
            "Enter age:102\n",
            "age is 102\n"
          ]
        }
      ]
    },
    {
      "cell_type": "code",
      "metadata": {
        "colab": {
          "base_uri": "https://localhost:8080/"
        },
        "id": "1iRVlHa7pPKe",
        "outputId": "122e42e6-5401-477f-90c8-9ac3a43fbed8"
      },
      "source": [
        "#Program-9\n",
        "x=0\n",
        "while x<10:\n",
        "    print(x)\n",
        "    x+=1"
      ],
      "execution_count": 10,
      "outputs": [
        {
          "output_type": "stream",
          "name": "stdout",
          "text": [
            "0\n",
            "1\n",
            "2\n",
            "3\n",
            "4\n",
            "5\n",
            "6\n",
            "7\n",
            "8\n",
            "9\n"
          ]
        }
      ]
    },
    {
      "cell_type": "code",
      "metadata": {
        "colab": {
          "base_uri": "https://localhost:8080/"
        },
        "id": "fNzFcbpZpPQJ",
        "outputId": "580573c6-b587-49a8-ef5b-6c776cecc00e"
      },
      "source": [
        "#Program-10\n",
        "def add():\n",
        "    x=int(input(\"Enter number 1:\"))\n",
        "    y=int(input(\"Enter number 2:\"))\n",
        "    z=x+y\n",
        "    print(z)\n",
        "add()"
      ],
      "execution_count": 9,
      "outputs": [
        {
          "output_type": "stream",
          "name": "stdout",
          "text": [
            "Enter number 1:115\n",
            "Enter number 2:264\n",
            "379\n"
          ]
        }
      ]
    }
  ]
}