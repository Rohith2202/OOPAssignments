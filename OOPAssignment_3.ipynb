{
  "nbformat": 4,
  "nbformat_minor": 0,
  "metadata": {
    "colab": {
      "name": "OOPAssignment-3",
      "provenance": [],
      "authorship_tag": "ABX9TyParX7y9zsvTsnVsT7DXyl+",
      "include_colab_link": true
    },
    "kernelspec": {
      "name": "python3",
      "display_name": "Python 3"
    },
    "language_info": {
      "name": "python"
    }
  },
  "cells": [
    {
      "cell_type": "markdown",
      "metadata": {
        "id": "view-in-github",
        "colab_type": "text"
      },
      "source": [
        "<a href=\"https://colab.research.google.com/github/Rohith2202/OOPAssignments/blob/main/OOPAssignment_3.ipynb\" target=\"_parent\"><img src=\"https://colab.research.google.com/assets/colab-badge.svg\" alt=\"Open In Colab\"/></a>"
      ]
    },
    {
      "cell_type": "code",
      "metadata": {
        "colab": {
          "base_uri": "https://localhost:8080/"
        },
        "id": "-Bx9RsuIsrMZ",
        "outputId": "f11e65e9-ef8f-47b4-fe92-91f3b8f55226"
      },
      "source": [
        "#Program-1\n",
        "\n",
        "class Student():\n",
        "    def __init__(self,name):\n",
        "        self.name=name\n",
        "    def sayname(self):\n",
        "        print(\"My name is \",self.name)\n",
        "student1=Student(\"Maxine\")\n",
        "student1.sayname()\n"
      ],
      "execution_count": 1,
      "outputs": [
        {
          "output_type": "stream",
          "name": "stdout",
          "text": [
            "My name is  Maxine\n"
          ]
        }
      ]
    },
    {
      "cell_type": "code",
      "metadata": {
        "colab": {
          "base_uri": "https://localhost:8080/"
        },
        "id": "rAOCa3nqssSu",
        "outputId": "0cf49f2e-6e0e-4321-8820-3a14d75f686d"
      },
      "source": [
        "#Program-2\n",
        "class student():\n",
        "    marks = 99\n",
        "    name = \"\"\n",
        "\n",
        "    def __init__(self):\n",
        "        self.marks= 96\n",
        "        self.name= \"Christopher\"\n",
        "\n",
        "    def score(self):\n",
        "        print('Marks in the subject: ' + str(self.marks))\n",
        "\n",
        "student_ =student()\n",
        "student_.score()\n",
        "marks =92\n",
        "student_.marks=95\n",
        "student_.score()"
      ],
      "execution_count": 3,
      "outputs": [
        {
          "output_type": "stream",
          "name": "stdout",
          "text": [
            "Marks in the subject: 96\n",
            "Marks in the subject: 95\n"
          ]
        }
      ]
    },
    {
      "cell_type": "code",
      "metadata": {
        "colab": {
          "base_uri": "https://localhost:8080/"
        },
        "id": "OpMLwgCOssZ6",
        "outputId": "ee4ae2e8-dc14-415c-98a5-663fa2505bfd"
      },
      "source": [
        "#Program-3\n",
        "class first():\n",
        "    def __init__(self):\n",
        "        self.a = \"IIIT\"\n",
        "        self.b = \"DWD\"\n",
        "class second(first):\n",
        "    def __init__(self):\n",
        "        first.__init__(self)\n",
        "        print(\"Calling private member of base class: \")\n",
        "        print(self.b)\n",
        "object = first()\n",
        "print(object.a)"
      ],
      "execution_count": 4,
      "outputs": [
        {
          "output_type": "stream",
          "name": "stdout",
          "text": [
            "IIIT\n"
          ]
        }
      ]
    },
    {
      "cell_type": "code",
      "metadata": {
        "colab": {
          "base_uri": "https://localhost:8080/"
        },
        "id": "9jWueAmqssh9",
        "outputId": "6a885828-308d-4aaa-be46-36b90795b406"
      },
      "source": [
        "#Program-4\n",
        "class total:\n",
        "  marks=25\n",
        "  def __init__(self,num) :\n",
        "    student.marks=student.marks+num\n",
        "\n",
        "subject1=total(96)\n",
        "subject2=total(88)\n",
        "subject3=total(64)\n",
        "\n",
        "print(\"Marks:\", total.marks)\n",
        "print(\"Marks:\", subject2.marks)"
      ],
      "execution_count": 5,
      "outputs": [
        {
          "output_type": "stream",
          "name": "stdout",
          "text": [
            "Marks: 25\n",
            "Marks: 25\n"
          ]
        }
      ]
    },
    {
      "cell_type": "code",
      "metadata": {
        "colab": {
          "base_uri": "https://localhost:8080/"
        },
        "id": "t1L1rJeisspF",
        "outputId": "db6ac697-6f04-4c43-ff8f-3b343ca5247a"
      },
      "source": [
        "#Program-5\n",
        "class student():\n",
        "    def __init__(self,age):\n",
        "        name=\"Ram\"\n",
        "        self.age=age\n",
        "\n",
        "    def show(self):\n",
        "        if self.age<19:\n",
        "            print(\"Student\")\n",
        "        else:\n",
        "            print(\"Not student\")\n",
        "student3=student(18)\n",
        "student3.show()"
      ],
      "execution_count": 6,
      "outputs": [
        {
          "output_type": "stream",
          "name": "stdout",
          "text": [
            "Student\n"
          ]
        }
      ]
    }
  ]
}